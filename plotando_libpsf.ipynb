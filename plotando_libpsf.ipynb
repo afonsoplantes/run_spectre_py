{
 "cells": [
  {
   "cell_type": "code",
   "execution_count": 1,
   "metadata": {},
   "outputs": [],
   "source": [
    "from numpy import sqrt\n",
    "from inform import Error, Inform, comment, display, done, fatal, os_error\n",
    "from quantiphy import Quantity\n",
    "from shlib import Run, render_command, set_prefs as shlib_set_prefs, to_path\n"
   ]
  },
  {
   "cell_type": "code",
   "execution_count": 2,
   "metadata": {},
   "outputs": [],
   "source": [
    "# open seed file and chage parameter\n",
    "fin = open(\"source_models/cs_amplifier.scs\", \"rt\")\n",
    "data = fin.read()\n",
    "param_change = \"1.2\"\n",
    "# Replace a string in \"[]\" by another\n",
    "data = data.replace(\"[PARAMETER]\", param_change)\n",
    "fin.close()"
   ]
  },
  {
   "cell_type": "code",
   "execution_count": 3,
   "metadata": {},
   "outputs": [],
   "source": [
    "# Generate input.scs with new param \n",
    "out_file = \"input\" + \".scs\"\n",
    "fout = open(out_file, \"wt\")\n",
    "fout.write(data)\n",
    "fout.close()"
   ]
  },
  {
   "cell_type": "markdown",
   "metadata": {},
   "source": [
    "# Simulate Netlist"
   ]
  },
  {
   "cell_type": "code",
   "execution_count": 4,
   "metadata": {},
   "outputs": [],
   "source": [
    "spectre_exe = \"spectre\"  # Spectre executable\n",
    "netlist_file = to_path(out_file)  # Spectre netlist file\n",
    "log_file = netlist_file.with_suffix(\".log\")  # Spectre logfile\n",
    "results_dir = netlist_file.with_suffix(\".raw\")  # simulation results directory"
   ]
  },
  {
   "cell_type": "code",
   "execution_count": 5,
   "metadata": {},
   "outputs": [],
   "source": [
    "## Analysis type\n",
    "psf_file_dc = results_dir / \"dc1.dc\"  # Input PSF file for dc simulation\n",
    "psf_file_ac = results_dir / \"ac1.dc\"  # Input PSF file for ac simulation"
   ]
  },
  {
   "cell_type": "markdown",
   "metadata": {},
   "source": [
    "## Simulation Command"
   ]
  },
  {
   "cell_type": "code",
   "execution_count": 8,
   "metadata": {},
   "outputs": [
    {
     "name": "stdout",
     "output_type": "stream",
     "text": [
      "('spectre', PosixPath('input.scs'), '+escchars', '+log', './psf/spectre.out', '-format', 'psfxl', '-raw', './psf', '+lqtimeout', '900', '-maxw', '5', '-maxn', '5', '-64')\n"
     ]
    }
   ],
   "source": [
    "## Simulation Command\n",
    "#sim_cmd = (spectre_exe, \"=log\", log_file, \"-format\", \"psfascii\", netlist_file, \"-64\")\n",
    "\n",
    "sim_cmd = (spectre_exe, netlist_file, \"+escchars\", \"+log\", \"./psf/spectre.out\", \"-format\", \"psfxl\", \"-raw\", \"./psf\", \"+lqtimeout\", \"900\",\"-maxw\", \"5\", \"-maxn\", \"5\", \"-64\")\n",
    "#spectre  input.scs  +escchars +log ./spectre/psf/spectre.out  \n",
    "#-format psfxl -raw ./spectre/psf ++aps +lqtimeout 900 -maxw 5 -maxn 5 -64\n",
    "print(sim_cmd)"
   ]
  },
  {
   "cell_type": "markdown",
   "metadata": {},
   "source": [
    "## simulate "
   ]
  },
  {
   "cell_type": "code",
   "execution_count": 9,
   "metadata": {},
   "outputs": [],
   "source": [
    "try:\n",
    "    comment(\"\\nRunning:\")\n",
    "    comment(\"   \", render_command(sim_cmd, {\"=log\": 1, \"-format\": 1}))\n",
    "    spectre = Run(sim_cmd, \"soEW0\")\n",
    "except Error as e:\n",
    "    if e.stdout:\n",
    "        comment(e.stdout)\n",
    "    e.terminate(culprit=spectre_exe, codicil=f\"See {log_file} for more information.\")"
   ]
  },
  {
   "cell_type": "markdown",
   "metadata": {},
   "source": [
    "# Plot Results with lib PSF"
   ]
  },
  {
   "cell_type": "code",
   "execution_count": 14,
   "metadata": {},
   "outputs": [],
   "source": [
    "import libpsf"
   ]
  },
  {
   "cell_type": "code",
   "execution_count": 17,
   "metadata": {},
   "outputs": [],
   "source": [
    "dc_dc = \"psf/dc1.dc\"\n",
    "myobj = libpsf.PSFDataSet( dc_dc )"
   ]
  },
  {
   "cell_type": "code",
   "execution_count": 19,
   "metadata": {},
   "outputs": [
    {
     "name": "stdout",
     "output_type": "stream",
     "text": [
      "{b'BINPSF creation time': b'1605799845', b'PSF groups': 0, b'PSF style': 7, b'PSF sweep max': 1.2, b'PSF sweep min': 0.0, b'PSF sweep points': 102, b'PSF sweeps': 1, b'PSF traces': 5, b'PSF types': 14, b'PSFversion': b'1.1', b'abstol(I)': 1e-10, b'abstol(V)': 1e-06, b'analysis description': b\"DC Analysis `dc1': vi = (0 -> 1.2)\", b'analysis name': b'dc1', b'analysis type': b'dc', b'date': b'1:30:45 PM, Thur Nov 19, 2020', b'design': b'// NMOS Common-Source Stage', b'gmindc': 1e-13, b'reltol': 0.0001, b'simulator': b'spectre', b'temp': 27.0, b'tempeffects': b'all', b'tnom': 27.0, b'tolerance.relative': 0.0001, b'version': b'15.1.0.284.isr1', b'xVecSorted': b'unsorted'}\n"
     ]
    }
   ],
   "source": [
    "print(myobj.get_header_properties())"
   ]
  },
  {
   "cell_type": "code",
   "execution_count": 20,
   "metadata": {},
   "outputs": [
    {
     "name": "stdout",
     "output_type": "stream",
     "text": [
      "['vdd2', 'vi', 'vin:p', 'vo', 'vob:p']\n"
     ]
    }
   ],
   "source": [
    "print( list(myobj.get_signal_names()))"
   ]
  },
  {
   "cell_type": "code",
   "execution_count": 24,
   "metadata": {},
   "outputs": [
    {
     "name": "stdout",
     "output_type": "stream",
     "text": [
      "102 102\n"
     ]
    }
   ],
   "source": [
    "vi = myobj.get_sweep_values()\n",
    "vo = myobj.get_signal('vo')\n",
    "print(len(vi), len(vo))"
   ]
  },
  {
   "cell_type": "code",
   "execution_count": 28,
   "metadata": {},
   "outputs": [
    {
     "data": {
      "text/plain": [
       "Text(0, 0.5, 'Vout, V')"
      ]
     },
     "execution_count": 28,
     "metadata": {},
     "output_type": "execute_result"
    },
    {
     "data": {
      "image/png": "[encoded data removed]",
      "text/plain": [
       "<Figure size 432x288 with 1 Axes>"
      ]
     },
     "metadata": {
      "needs_background": "light"
     },
     "output_type": "display_data"
    }
   ],
   "source": [
    "import pylab\n",
    "\n",
    "pylab.plot(vi, vo)\n",
    "pylab.title(\"Sweep DC inverter input\")\n",
    "pylab.xlabel(\"Vin, V\")\n",
    "pylab.ylabel(\"Vout, V\")"
   ]
  },
  {
   "cell_type": "code",
   "execution_count": 31,
   "metadata": {},
   "outputs": [
    {
     "name": "stdout",
     "output_type": "stream",
     "text": [
      "['vdd2', 'vi', 'vin:p', 'vo', 'vob:p']\n"
     ]
    }
   ],
   "source": [
    "ac_ac = \"psf/ac1.ac\"\n",
    "freq_sweep_obj = libpsf.PSFDataSet( ac_ac )\n",
    "print( list(freq_sweep_obj.get_signal_names()))"
   ]
  },
  {
   "cell_type": "code",
   "execution_count": 34,
   "metadata": {},
   "outputs": [
    {
     "name": "stdout",
     "output_type": "stream",
     "text": [
      "102 102\n"
     ]
    }
   ],
   "source": [
    "freq = freq_sweep_obj.get_sweep_values()\n",
    "vo = abs(freq_sweep_obj.get_signal(\"vo\"))\n",
    "\n",
    "print(len(freq), len(vo))"
   ]
  },
  {
   "cell_type": "code",
   "execution_count": 36,
   "metadata": {},
   "outputs": [
    {
     "data": {
      "text/plain": [
       "Text(0, 0.5, 'Vo, V')"
      ]
     },
     "execution_count": 36,
     "metadata": {},
     "output_type": "execute_result"
    },
    {
     "data": {
      "image/png": "[encoded data removed]",
      "text/plain": [
       "<Figure size 432x288 with 1 Axes>"
      ]
     },
     "metadata": {
      "needs_background": "light"
     },
     "output_type": "display_data"
    }
   ],
   "source": [
    "pylab.title(\"Plot da simulacao AC\")\n",
    "pylab.semilogx(freq, vo)\n",
    "pylab.xlabel(\"freq, Hz\")\n",
    "pylab.ylabel(\"Vo, V\")"
   ]
  },
  {
   "cell_type": "code",
   "execution_count": null,
   "metadata": {},
   "outputs": [],
   "source": []
  },
  {
   "cell_type": "code",
   "execution_count": null,
   "metadata": {},
   "outputs": [],
   "source": []
  }
 ],
 "metadata": {
  "kernelspec": {
   "display_name": "Python 3",
   "language": "python",
   "name": "python3"
  },
  "language_info": {
   "codemirror_mode": {
    "name": "ipython",
    "version": 3
   },
   "file_extension": ".py",
   "mimetype": "text/x-python",
   "name": "python",
   "nbconvert_exporter": "python",
   "pygments_lexer": "ipython3",
   "version": "3.7.3"
  }
 },
 "nbformat": 4,
 "nbformat_minor": 2
}
